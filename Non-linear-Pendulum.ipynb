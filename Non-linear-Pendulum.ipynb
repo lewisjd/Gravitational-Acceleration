{
 "cells": [
  {
   "cell_type": "markdown",
   "id": "2a52273a",
   "metadata": {},
   "source": [
    "# Non-Linear Kater's Pendulum\n",
    "\n",
    "First we derive an equation of motion for the pendulum:\n",
    "\n",
    "$\\sum\\tau=\\tau_g=-\\lvert\\vec{F_g}\\times\\vec{d}\\rvert=-Mgd\\sin\\theta=I_0\\ddot{\\theta}$\n",
    "\n",
    "Where $\\tau$ is the torque, $M$ is the total mass of the pendulum, $g$ is the gravitational constant, $d$ is the distance from the centre of mass to the point about which the pendulum is rotating, $I_0$ is the moment of inertia about the point of roatation, and $\\ddot{\\theta}$ is the angular acceleration.\n",
    "\n",
    "Rearranging our equation of motion we get:\n",
    "\n",
    "$\\ddot{\\theta}+\\frac{Mgd}{I_0}\\sin\\theta=0$\n",
    "\n",
    "This is a second order differential equation. The solution to this differential equation is not elementary, however, an exact analytical solution does exist in terms of Jacobi Elliptic Functions.\n",
    "\n",
    "Following the derivation here: https://medium.com/physicsfromscratch/a-complete-solution-to-the-non-linear-pendulum-9afda0b64926\n",
    "\n",
    "We get the solution:\n",
    "\n",
    "$\\theta(t)=2\\arcsin(k\\cdot cd(t\\sqrt{\\frac{Mgd}{I_0}}, k))$\n",
    "\n",
    "Where $k$ is the elliptic modulus and $0 \\le k^2 \\le 1$.\n",
    "\n",
    "However we also need an expression for the time period.\n",
    "\n",
    "In the derivation we saw that:\n",
    "\n",
    "$\\frac{d\\theta}{dt}=\\sqrt{\\frac{2Mgd}{I_0}(\\cos(\\theta)-\\cos(\\theta_0))}$\n",
    "\n",
    "and so:\n",
    "\n",
    "$\\frac{dt}{d\\theta}=\\sqrt{\\frac{I_0}{2Mgd}}\\frac{1}{\\sqrt{\\cos(\\theta)-\\cos(\\theta_0)}}$\n",
    "\n",
    "From this we can derive an equation for the time period:\n",
    "\n",
    "$T=4\\sqrt{\\frac{I_0}{2Mgd}}\\int_{0}^{\\theta_0}\\frac{d\\theta}{\\sqrt{cos(\\theta)-cos(\\theta_0)}}$\n",
    "\n",
    "This time period can be written in terms of an elliptic integral\n",
    "\n",
    "$T=4\\sqrt{\\frac{I_0}{Mgd}}K(k)$\n",
    "\n",
    "Where $k=\\sin\\frac{\\theta_0}{2}$ and $K(k)$ is a complete elliptic integral of the first kind defined by\n",
    "\n",
    "$K(k)=F(\\frac{\\pi}{2}, k)=\\int_{0}^{\\frac{\\pi}{2}}\\frac{du}{\\sqrt{1-k^2sin^2(u)}}$\n",
    "\n",
    "Following the Legendre polynomial solution for the elliptic integral:\n",
    "\n",
    "$T=2\\pi\\sqrt{\\frac{I_0}{Mgd}}\\sum_{n=0}^{\\infty}((\\frac{(2n)!}{(2^n\\cdot n!)^2})^2\\cdot\\sin^{2n}\\frac{\\theta_0}{2})$\n",
    "\n",
    "Therefore each successive time period differs by a factor of $\\frac{2}{\\pi}K(k)$:\n",
    "\n",
    "$T=\\frac{2T_0}{\\pi}K(k)$\n",
    "\n",
    "Calculating the new $\\theta_0$ value every oscillation using the following equation, we then calculate $K(k)$:\n",
    "\n",
    "$\\theta(t)=2\\arcsin(k\\cdot cd(t\\sqrt{\\frac{Mgd}{I_0}}, k))$\n",
    "\n",
    "Where $t$ is equal to the time periods."
   ]
  },
  {
   "cell_type": "code",
   "execution_count": null,
   "id": "96078118",
   "metadata": {},
   "outputs": [],
   "source": []
  }
 ],
 "metadata": {
  "kernelspec": {
   "display_name": "Python 3 (ipykernel)",
   "language": "python",
   "name": "python3"
  },
  "language_info": {
   "codemirror_mode": {
    "name": "ipython",
    "version": 3
   },
   "file_extension": ".py",
   "mimetype": "text/x-python",
   "name": "python",
   "nbconvert_exporter": "python",
   "pygments_lexer": "ipython3",
   "version": "3.10.9"
  }
 },
 "nbformat": 4,
 "nbformat_minor": 5
}
